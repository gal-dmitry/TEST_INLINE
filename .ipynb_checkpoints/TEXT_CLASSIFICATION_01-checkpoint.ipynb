{
 "cells": [
  {
   "cell_type": "code",
   "execution_count": 5,
   "id": "768c6202",
   "metadata": {},
   "outputs": [],
   "source": [
    "import warnings\n",
    "warnings.filterwarnings(\"ignore\")"
   ]
  },
  {
   "cell_type": "code",
   "execution_count": 6,
   "id": "84f279a5",
   "metadata": {},
   "outputs": [],
   "source": [
    "import pandas as pd\n",
    "import numpy as np\n",
    "import matplotlib.pyplot as plt\n",
    "import seaborn as sns\n",
    "\n",
    "# import stop_words\n",
    "import string\n",
    "import re\n",
    "import pymorphy2\n",
    "\n",
    "from tqdm import tqdm\n",
    "\n",
    "from sklearn.model_selection import train_test_split\n",
    "from sklearn.utils.class_weight import compute_class_weight\n",
    "\n",
    "from sklearn.metrics import classification_report\n",
    "from sklearn.metrics import confusion_matrix\n",
    "\n",
    "from catboost import CatBoostClassifier, Pool"
   ]
  },
  {
   "cell_type": "markdown",
   "id": "aac5495d",
   "metadata": {},
   "source": [
    "###### Подготовка данных\n",
    "\n",
    "- подгрузим данные\n",
    "- выберем классы, содержащие больше 500 примеров\n",
    "- посмотрим на распределение данных"
   ]
  },
  {
   "cell_type": "code",
   "execution_count": 7,
   "id": "b9c502d2",
   "metadata": {},
   "outputs": [
    {
     "data": {
      "text/html": [
       "<div>\n",
       "<style scoped>\n",
       "    .dataframe tbody tr th:only-of-type {\n",
       "        vertical-align: middle;\n",
       "    }\n",
       "\n",
       "    .dataframe tbody tr th {\n",
       "        vertical-align: top;\n",
       "    }\n",
       "\n",
       "    .dataframe thead th {\n",
       "        text-align: right;\n",
       "    }\n",
       "</style>\n",
       "<table border=\"1\" class=\"dataframe\">\n",
       "  <thead>\n",
       "    <tr style=\"text-align: right;\">\n",
       "      <th></th>\n",
       "      <th>text</th>\n",
       "      <th>mtype</th>\n",
       "    </tr>\n",
       "  </thead>\n",
       "  <tbody>\n",
       "    <tr>\n",
       "      <th>0</th>\n",
       "      <td>12 частей баранина  12 частей баранина</td>\n",
       "      <td>Баранина</td>\n",
       "    </tr>\n",
       "    <tr>\n",
       "      <th>1</th>\n",
       "      <td>Баранина, 12 частей, зам. цена 260 руб.</td>\n",
       "      <td>Баранина</td>\n",
       "    </tr>\n",
       "    <tr>\n",
       "      <th>2</th>\n",
       "      <td>Баранина, 12 частей, зам. цена 315 руб.</td>\n",
       "      <td>Баранина</td>\n",
       "    </tr>\n",
       "    <tr>\n",
       "      <th>3</th>\n",
       "      <td>Баранина, 12 частей, охл.</td>\n",
       "      <td>Баранина</td>\n",
       "    </tr>\n",
       "    <tr>\n",
       "      <th>4</th>\n",
       "      <td>Баранина, 12 частей, охл. цена 220 руб.</td>\n",
       "      <td>Баранина</td>\n",
       "    </tr>\n",
       "    <tr>\n",
       "      <th>...</th>\n",
       "      <td>...</td>\n",
       "      <td>...</td>\n",
       "    </tr>\n",
       "    <tr>\n",
       "      <th>17888</th>\n",
       "      <td>Ягнятина, шея, бк</td>\n",
       "      <td>Ягнятина</td>\n",
       "    </tr>\n",
       "    <tr>\n",
       "      <th>17889</th>\n",
       "      <td>Язык ягненка (н.зеландия) Отварные языки ягнят...</td>\n",
       "      <td>Ягнятина</td>\n",
       "    </tr>\n",
       "    <tr>\n",
       "      <th>17890</th>\n",
       "      <td>Ягнятина, язык, зачищ. цена 100 руб.</td>\n",
       "      <td>Ягнятина</td>\n",
       "    </tr>\n",
       "    <tr>\n",
       "      <th>17891</th>\n",
       "      <td>Як, задние части, 1 категория цена 550 руб.</td>\n",
       "      <td>Як</td>\n",
       "    </tr>\n",
       "    <tr>\n",
       "      <th>17892</th>\n",
       "      <td>Як, туши, 1 категория цена 150 руб.</td>\n",
       "      <td>Як</td>\n",
       "    </tr>\n",
       "  </tbody>\n",
       "</table>\n",
       "<p>17893 rows × 2 columns</p>\n",
       "</div>"
      ],
      "text/plain": [
       "                                                    text     mtype\n",
       "0                 12 частей баранина  12 частей баранина  Баранина\n",
       "1                Баранина, 12 частей, зам. цена 260 руб.  Баранина\n",
       "2                Баранина, 12 частей, зам. цена 315 руб.  Баранина\n",
       "3                              Баранина, 12 частей, охл.  Баранина\n",
       "4                Баранина, 12 частей, охл. цена 220 руб.  Баранина\n",
       "...                                                  ...       ...\n",
       "17888                                  Ягнятина, шея, бк  Ягнятина\n",
       "17889  Язык ягненка (н.зеландия) Отварные языки ягнят...  Ягнятина\n",
       "17890               Ягнятина, язык, зачищ. цена 100 руб.  Ягнятина\n",
       "17891        Як, задние части, 1 категория цена 550 руб.        Як\n",
       "17892                Як, туши, 1 категория цена 150 руб.        Як\n",
       "\n",
       "[17893 rows x 2 columns]"
      ]
     },
     "execution_count": 7,
     "metadata": {},
     "output_type": "execute_result"
    }
   ],
   "source": [
    "data_path = \"./DATA/meatinfo.csv\"\n",
    "\n",
    "df = pd.read_csv(data_path, sep=\";\")\n",
    "\n",
    "df"
   ]
  },
  {
   "cell_type": "code",
   "execution_count": 8,
   "id": "d7b5acbd",
   "metadata": {},
   "outputs": [
    {
     "data": {
      "text/plain": [
       "Говядина                                                                                   8422\n",
       "Свинина                                                                                    3050\n",
       "Кура                                                                                       1571\n",
       "Индейка                                                                                    1337\n",
       "Баранина                                                                                   1116\n",
       "Цыпленок                                                                                    942\n",
       "Кролик                                                                                      334\n",
       "Утка                                                                                        195\n",
       "Оленина                                                                                     193\n",
       "Конина                                                                                      176\n",
       "Гусь                                                                                        125\n",
       "Телятина                                                                                     98\n",
       "Ягнятина                                                                                     76\n",
       "Буйволятина                                                                                  75\n",
       "Перепел                                                                                      54\n",
       "Кабан                                                                                        24\n",
       "Лось                                                                                         20\n",
       "Страус                                                                                       10\n",
       "Косуля                                                                                        8\n",
       "Куропатка                                                                                     7\n",
       "Цесарка                                                                                       7\n",
       "Марал                                                                                         7\n",
       "Медвежатина                                                                                   4\n",
       "Фазан                                                                                         4\n",
       "свинина                                                                                       3\n",
       "Изюбр                                                                                         3\n",
       "Парагвай                                                                                      2\n",
       "цыпленок                                                                                      2\n",
       "индейка                                                                                       2\n",
       "Feb-20                                                                                        2\n",
       "Нутрия                                                                                        2\n",
       "Як                                                                                            2\n",
       "Заяц                                                                                          2\n",
       "Кенгуру                                                                                       2\n",
       "Говядина, полутуши, 1 категория,  охл., Россия, подвес, В наличии, 10 тонн, 270 руб. кг       1\n",
       "утка                                                                                          1\n",
       "Глухарь                                                                                       1\n",
       "говядина                                                                                      1\n",
       "Тетерев                                                                                       1\n",
       "Рябчик                                                                                        1\n",
       "свиниеа                                                                                       1\n",
       " Лопаточная часть (Chuck) буйвол                                                              1\n",
       "125р.                                                                                         1\n",
       "OFFAL EXP №4407 Аргентина                                                                     1\n",
       "(OFFAL EXP №4407 Аргентина)                                                                   1\n",
       "Mar-20                                                                                        1\n",
       "295,00 руб|кг                                                                                 1\n",
       "Коза                                                                                          1\n",
       "Бобер                                                                                         1\n",
       "Name: mtype, dtype: int64"
      ]
     },
     "execution_count": 8,
     "metadata": {},
     "output_type": "execute_result"
    }
   ],
   "source": [
    "df.mtype.value_counts()"
   ]
  },
  {
   "cell_type": "code",
   "execution_count": 9,
   "id": "935fca36",
   "metadata": {},
   "outputs": [],
   "source": [
    "def get_reduced_df(df, threshold=500):\n",
    "    \n",
    "    cnt_df = df.mtype.value_counts()\n",
    "    names = cnt_df[cnt_df >= threshold].index.tolist()\n",
    "    \n",
    "    new_df = df[df.mtype.isin(names)]\n",
    "    \n",
    "    new_df.mtype.value_counts().plot(kind=\"bar\")\n",
    "    plt.show()\n",
    "    \n",
    "    return new_df\n"
   ]
  },
  {
   "cell_type": "code",
   "execution_count": 10,
   "id": "997d75d8",
   "metadata": {},
   "outputs": [
    {
     "data": {
      "image/png": "[encoded data removed]",
      "text/plain": [
       "<Figure size 432x288 with 1 Axes>"
      ]
     },
     "metadata": {
      "needs_background": "light"
     },
     "output_type": "display_data"
    },
    {
     "data": {
      "text/html": [
       "<div>\n",
       "<style scoped>\n",
       "    .dataframe tbody tr th:only-of-type {\n",
       "        vertical-align: middle;\n",
       "    }\n",
       "\n",
       "    .dataframe tbody tr th {\n",
       "        vertical-align: top;\n",
       "    }\n",
       "\n",
       "    .dataframe thead th {\n",
       "        text-align: right;\n",
       "    }\n",
       "</style>\n",
       "<table border=\"1\" class=\"dataframe\">\n",
       "  <thead>\n",
       "    <tr style=\"text-align: right;\">\n",
       "      <th></th>\n",
       "      <th>text</th>\n",
       "      <th>mtype</th>\n",
       "    </tr>\n",
       "  </thead>\n",
       "  <tbody>\n",
       "    <tr>\n",
       "      <th>0</th>\n",
       "      <td>12 частей баранина  12 частей баранина</td>\n",
       "      <td>Баранина</td>\n",
       "    </tr>\n",
       "    <tr>\n",
       "      <th>1</th>\n",
       "      <td>Баранина, 12 частей, зам. цена 260 руб.</td>\n",
       "      <td>Баранина</td>\n",
       "    </tr>\n",
       "    <tr>\n",
       "      <th>2</th>\n",
       "      <td>Баранина, 12 частей, зам. цена 315 руб.</td>\n",
       "      <td>Баранина</td>\n",
       "    </tr>\n",
       "    <tr>\n",
       "      <th>3</th>\n",
       "      <td>Баранина, 12 частей, охл.</td>\n",
       "      <td>Баранина</td>\n",
       "    </tr>\n",
       "    <tr>\n",
       "      <th>4</th>\n",
       "      <td>Баранина, 12 частей, охл. цена 220 руб.</td>\n",
       "      <td>Баранина</td>\n",
       "    </tr>\n",
       "    <tr>\n",
       "      <th>...</th>\n",
       "      <td>...</td>\n",
       "      <td>...</td>\n",
       "    </tr>\n",
       "    <tr>\n",
       "      <th>17816</th>\n",
       "      <td>Цыпленок, четвертина, задняя</td>\n",
       "      <td>Цыпленок</td>\n",
       "    </tr>\n",
       "    <tr>\n",
       "      <th>17817</th>\n",
       "      <td>Цыпленок, четвертина, задняя цена 100 руб.</td>\n",
       "      <td>Цыпленок</td>\n",
       "    </tr>\n",
       "    <tr>\n",
       "      <th>17818</th>\n",
       "      <td>ЦБ Шеи п/ф Свеженка ГОСТ зам пак Шеи куриные П...</td>\n",
       "      <td>Цыпленок</td>\n",
       "    </tr>\n",
       "    <tr>\n",
       "      <th>17819</th>\n",
       "      <td>Цыпленок, шея, без кожи</td>\n",
       "      <td>Цыпленок</td>\n",
       "    </tr>\n",
       "    <tr>\n",
       "      <th>17820</th>\n",
       "      <td>Цыпленок, шея, без кожи цена 27 руб.</td>\n",
       "      <td>Цыпленок</td>\n",
       "    </tr>\n",
       "  </tbody>\n",
       "</table>\n",
       "<p>16438 rows × 2 columns</p>\n",
       "</div>"
      ],
      "text/plain": [
       "                                                    text     mtype\n",
       "0                 12 частей баранина  12 частей баранина  Баранина\n",
       "1                Баранина, 12 частей, зам. цена 260 руб.  Баранина\n",
       "2                Баранина, 12 частей, зам. цена 315 руб.  Баранина\n",
       "3                              Баранина, 12 частей, охл.  Баранина\n",
       "4                Баранина, 12 частей, охл. цена 220 руб.  Баранина\n",
       "...                                                  ...       ...\n",
       "17816                       Цыпленок, четвертина, задняя  Цыпленок\n",
       "17817         Цыпленок, четвертина, задняя цена 100 руб.  Цыпленок\n",
       "17818  ЦБ Шеи п/ф Свеженка ГОСТ зам пак Шеи куриные П...  Цыпленок\n",
       "17819                            Цыпленок, шея, без кожи  Цыпленок\n",
       "17820               Цыпленок, шея, без кожи цена 27 руб.  Цыпленок\n",
       "\n",
       "[16438 rows x 2 columns]"
      ]
     },
     "execution_count": 10,
     "metadata": {},
     "output_type": "execute_result"
    }
   ],
   "source": [
    "reduced_df = get_reduced_df(df)\n",
    "\n",
    "reduced_df"
   ]
  },
  {
   "cell_type": "markdown",
   "id": "130ca046",
   "metadata": {},
   "source": [
    "Заметим, что в датасете присутствует дисбаланс классов. Будем иметь это ввиду при обучении моделей."
   ]
  },
  {
   "cell_type": "markdown",
   "id": "02bbf490",
   "metadata": {},
   "source": [
    "###### Очистка данных\n",
    "\n",
    "Полдготовим данные для обучения:\n",
    "    \n",
    "- выбросим знаки пунктуации\n",
    "- выбросим сдвоенные пробелы\n",
    "- сведем весь текст к нижнему регистру\n",
    "- лемматизируем каждое слово в тексте\n",
    "- выбросим стоп-слова (???)"
   ]
  },
  {
   "cell_type": "code",
   "execution_count": 11,
   "id": "ebb3ce0c",
   "metadata": {},
   "outputs": [],
   "source": [
    "# russian_stopwords = stop_words.get_stop_words('ru')\n",
    "# russian_stopwords.extend(['...', '«', '»', \n",
    "#                           'здравствуйте', 'здравствуй',\n",
    "#                           'до свидания', 'добрый день', \n",
    "#                           'добрый вечер', 'доброе утро'])\n",
    "\n",
    "\n",
    "# def _remove_numbers(text):\n",
    "#     return ''.join([i if not i.isdigit() else ' ' for i in text])\n",
    "\n",
    "\n",
    "def _remove_punctuation(text):\n",
    "    return ''.join([ch if ch not in string.punctuation else ' ' for ch in text])\n",
    "\n",
    "\n",
    "def _remove_multiple_spaces(text):\n",
    "    return re.sub(r'\\s+', ' ', text, flags=re.I)\n",
    "\n",
    "\n",
    "def clean_text(df):\n",
    "    df[\"clean_text\"] = df.text.apply(lambda x: _remove_multiple_spaces(_remove_punctuation(x.lower())))\n",
    "    return df\n",
    "\n",
    "\n",
    "def lemmatization(df, text_len_threshold=None):\n",
    "    \n",
    "    morph = pymorphy2.MorphAnalyzer()\n",
    "    tqdm.pandas()\n",
    "    \n",
    "    df[\"text_lemm\"] = \\\n",
    "    df.clean_text.progress_apply(lambda x: [morph.parse(word)[0].normal_form for word in x.split(' ')])\n",
    "\n",
    "    if text_len_threshold is not None:\n",
    "        df[\"text_lemm\"].apply(lambda x: x if len(x) > text_len_threshold else '')\n",
    "\n",
    "    df[\"text_lemm\"] = df[\"text_lemm\"].apply(lambda x: ' '.join(x))\n",
    "    \n",
    "    return df\n",
    "\n",
    "\n",
    "def process_text(df):\n",
    "    df = df.copy()\n",
    "    df = clean_text(df)\n",
    "    df = lemmatization(df)\n",
    "    return df\n"
   ]
  },
  {
   "cell_type": "code",
   "execution_count": 12,
   "id": "2067cef5",
   "metadata": {},
   "outputs": [
    {
     "name": "stderr",
     "output_type": "stream",
     "text": [
      "100%|██████████████████████████████████████████████████████████████████████████████████████████████████████████| 16438/16438 [01:11<00:00, 231.13it/s]\n"
     ]
    },
    {
     "data": {
      "text/html": [
       "<div>\n",
       "<style scoped>\n",
       "    .dataframe tbody tr th:only-of-type {\n",
       "        vertical-align: middle;\n",
       "    }\n",
       "\n",
       "    .dataframe tbody tr th {\n",
       "        vertical-align: top;\n",
       "    }\n",
       "\n",
       "    .dataframe thead th {\n",
       "        text-align: right;\n",
       "    }\n",
       "</style>\n",
       "<table border=\"1\" class=\"dataframe\">\n",
       "  <thead>\n",
       "    <tr style=\"text-align: right;\">\n",
       "      <th></th>\n",
       "      <th>text</th>\n",
       "      <th>mtype</th>\n",
       "      <th>clean_text</th>\n",
       "      <th>text_lemm</th>\n",
       "    </tr>\n",
       "  </thead>\n",
       "  <tbody>\n",
       "    <tr>\n",
       "      <th>0</th>\n",
       "      <td>12 частей баранина  12 частей баранина</td>\n",
       "      <td>Баранина</td>\n",
       "      <td>12 частей баранина 12 частей баранина</td>\n",
       "      <td>12 часть баранина 12 часть баранина</td>\n",
       "    </tr>\n",
       "    <tr>\n",
       "      <th>1</th>\n",
       "      <td>Баранина, 12 частей, зам. цена 260 руб.</td>\n",
       "      <td>Баранина</td>\n",
       "      <td>баранина 12 частей зам цена 260 руб</td>\n",
       "      <td>баранина 12 часть зам цена 260 руб</td>\n",
       "    </tr>\n",
       "    <tr>\n",
       "      <th>2</th>\n",
       "      <td>Баранина, 12 частей, зам. цена 315 руб.</td>\n",
       "      <td>Баранина</td>\n",
       "      <td>баранина 12 частей зам цена 315 руб</td>\n",
       "      <td>баранина 12 часть зам цена 315 руб</td>\n",
       "    </tr>\n",
       "    <tr>\n",
       "      <th>3</th>\n",
       "      <td>Баранина, 12 частей, охл.</td>\n",
       "      <td>Баранина</td>\n",
       "      <td>баранина 12 частей охл</td>\n",
       "      <td>баранина 12 часть охл</td>\n",
       "    </tr>\n",
       "    <tr>\n",
       "      <th>4</th>\n",
       "      <td>Баранина, 12 частей, охл. цена 220 руб.</td>\n",
       "      <td>Баранина</td>\n",
       "      <td>баранина 12 частей охл цена 220 руб</td>\n",
       "      <td>баранина 12 часть охл цена 220 руб</td>\n",
       "    </tr>\n",
       "    <tr>\n",
       "      <th>...</th>\n",
       "      <td>...</td>\n",
       "      <td>...</td>\n",
       "      <td>...</td>\n",
       "      <td>...</td>\n",
       "    </tr>\n",
       "    <tr>\n",
       "      <th>17816</th>\n",
       "      <td>Цыпленок, четвертина, задняя</td>\n",
       "      <td>Цыпленок</td>\n",
       "      <td>цыпленок четвертина задняя</td>\n",
       "      <td>цыплёнок четвертина задний</td>\n",
       "    </tr>\n",
       "    <tr>\n",
       "      <th>17817</th>\n",
       "      <td>Цыпленок, четвертина, задняя цена 100 руб.</td>\n",
       "      <td>Цыпленок</td>\n",
       "      <td>цыпленок четвертина задняя цена 100 руб</td>\n",
       "      <td>цыплёнок четвертина задний цена 100 руб</td>\n",
       "    </tr>\n",
       "    <tr>\n",
       "      <th>17818</th>\n",
       "      <td>ЦБ Шеи п/ф Свеженка ГОСТ зам пак Шеи куриные П...</td>\n",
       "      <td>Цыпленок</td>\n",
       "      <td>цб шеи п ф свеженка гост зам пак шеи куриные п...</td>\n",
       "      <td>цб шея п ф свежёнка гост зам пак шея куриный п...</td>\n",
       "    </tr>\n",
       "    <tr>\n",
       "      <th>17819</th>\n",
       "      <td>Цыпленок, шея, без кожи</td>\n",
       "      <td>Цыпленок</td>\n",
       "      <td>цыпленок шея без кожи</td>\n",
       "      <td>цыплёнок шея без кожа</td>\n",
       "    </tr>\n",
       "    <tr>\n",
       "      <th>17820</th>\n",
       "      <td>Цыпленок, шея, без кожи цена 27 руб.</td>\n",
       "      <td>Цыпленок</td>\n",
       "      <td>цыпленок шея без кожи цена 27 руб</td>\n",
       "      <td>цыплёнок шея без кожа цена 27 руб</td>\n",
       "    </tr>\n",
       "  </tbody>\n",
       "</table>\n",
       "<p>16438 rows × 4 columns</p>\n",
       "</div>"
      ],
      "text/plain": [
       "                                                    text     mtype  \\\n",
       "0                 12 частей баранина  12 частей баранина  Баранина   \n",
       "1                Баранина, 12 частей, зам. цена 260 руб.  Баранина   \n",
       "2                Баранина, 12 частей, зам. цена 315 руб.  Баранина   \n",
       "3                              Баранина, 12 частей, охл.  Баранина   \n",
       "4                Баранина, 12 частей, охл. цена 220 руб.  Баранина   \n",
       "...                                                  ...       ...   \n",
       "17816                       Цыпленок, четвертина, задняя  Цыпленок   \n",
       "17817         Цыпленок, четвертина, задняя цена 100 руб.  Цыпленок   \n",
       "17818  ЦБ Шеи п/ф Свеженка ГОСТ зам пак Шеи куриные П...  Цыпленок   \n",
       "17819                            Цыпленок, шея, без кожи  Цыпленок   \n",
       "17820               Цыпленок, шея, без кожи цена 27 руб.  Цыпленок   \n",
       "\n",
       "                                              clean_text  \\\n",
       "0                  12 частей баранина 12 частей баранина   \n",
       "1                   баранина 12 частей зам цена 260 руб    \n",
       "2                   баранина 12 частей зам цена 315 руб    \n",
       "3                                баранина 12 частей охл    \n",
       "4                   баранина 12 частей охл цена 220 руб    \n",
       "...                                                  ...   \n",
       "17816                         цыпленок четвертина задняя   \n",
       "17817           цыпленок четвертина задняя цена 100 руб    \n",
       "17818  цб шеи п ф свеженка гост зам пак шеи куриные п...   \n",
       "17819                              цыпленок шея без кожи   \n",
       "17820                 цыпленок шея без кожи цена 27 руб    \n",
       "\n",
       "                                               text_lemm  \n",
       "0                    12 часть баранина 12 часть баранина  \n",
       "1                    баранина 12 часть зам цена 260 руб   \n",
       "2                    баранина 12 часть зам цена 315 руб   \n",
       "3                                 баранина 12 часть охл   \n",
       "4                    баранина 12 часть охл цена 220 руб   \n",
       "...                                                  ...  \n",
       "17816                         цыплёнок четвертина задний  \n",
       "17817           цыплёнок четвертина задний цена 100 руб   \n",
       "17818  цб шея п ф свежёнка гост зам пак шея куриный п...  \n",
       "17819                              цыплёнок шея без кожа  \n",
       "17820                 цыплёнок шея без кожа цена 27 руб   \n",
       "\n",
       "[16438 rows x 4 columns]"
      ]
     },
     "execution_count": 12,
     "metadata": {},
     "output_type": "execute_result"
    }
   ],
   "source": [
    "processed_df = process_text(reduced_df)\n",
    "\n",
    "processed_df"
   ]
  },
  {
   "cell_type": "markdown",
   "id": "a484382f",
   "metadata": {},
   "source": [
    "##### Train_test_split\n",
    "\n",
    "Разобьем данные на тренировочную и тестовую выборки (80% / 20%). Проконтролируем, что соотношение классов в обеих выборках одинаково."
   ]
  },
  {
   "cell_type": "code",
   "execution_count": 13,
   "id": "80416186",
   "metadata": {},
   "outputs": [],
   "source": [
    "def get_train_test_split(df, test_size=0.2, random_state=42):\n",
    "    \n",
    "    X_train, X_test, y_train, y_test = train_test_split(df.text_lemm, \n",
    "                                                        df.mtype, \n",
    "                                                        test_size=test_size, \n",
    "                                                        random_state=random_state)\n",
    "    \n",
    "    fig, (ax0, ax1) = plt.subplots(1, 2)\n",
    "\n",
    "    ax0.bar(y_train.value_counts().index, y_train.value_counts().values)\n",
    "    ax1.bar(y_test.value_counts().index, y_test.value_counts().values)\n",
    "    \n",
    "    ax0.set_xticklabels(y_train.value_counts().index, rotation = 90)\n",
    "    ax1.set_xticklabels(y_test.value_counts().index, rotation = 90)\n",
    "    \n",
    "    ax0.set_title(\"Train\")\n",
    "    ax1.set_title(\"Test\")\n",
    "    \n",
    "    plt.show()\n",
    "    \n",
    "    return pd.DataFrame(X_train), pd.DataFrame(X_test), pd.DataFrame(y_train), pd.DataFrame(y_test)"
   ]
  },
  {
   "cell_type": "code",
   "execution_count": 14,
   "id": "d34c468f",
   "metadata": {},
   "outputs": [
    {
     "data": {
      "image/png": "[encoded data removed]",
      "text/plain": [
       "<Figure size 432x288 with 2 Axes>"
      ]
     },
     "metadata": {
      "needs_background": "light"
     },
     "output_type": "display_data"
    }
   ],
   "source": [
    "X_train, X_test, y_train, y_test = get_train_test_split(processed_df)"
   ]
  },
  {
   "cell_type": "markdown",
   "id": "6ba2c6e3",
   "metadata": {},
   "source": [
    "###### Class weights\n",
    "\n",
    "Попробуем решить проблему дисбаланса классов с помощью присвоения весов каждому классу: чем реже встречается класс в датасете, тем выше его вес."
   ]
  },
  {
   "cell_type": "code",
   "execution_count": 13,
   "id": "78d29d9a",
   "metadata": {},
   "outputs": [],
   "source": [
    "def get_class_weights(y_train):\n",
    "\n",
    "    classes = y_train.mtype.unique().tolist()\n",
    "    y = y_train.mtype.tolist()\n",
    "    \n",
    "    weights = compute_class_weight(class_weight='balanced', classes=classes, y=y)\n",
    "    class_weights = dict(zip(classes, weights))\n",
    "    \n",
    "    return class_weights"
   ]
  },
  {
   "cell_type": "code",
   "execution_count": 14,
   "id": "2d4eb153",
   "metadata": {},
   "outputs": [
    {
     "data": {
      "text/plain": [
       "{'Говядина': 0.3259468570295459,\n",
       " 'Свинина': 0.8974883974883975,\n",
       " 'Цыпленок': 2.9378909740840036,\n",
       " 'Кура': 1.7284437434279705,\n",
       " 'Баранина': 2.443329617242661,\n",
       " 'Индейка': 2.0425598011804906}"
      ]
     },
     "execution_count": 14,
     "metadata": {},
     "output_type": "execute_result"
    }
   ],
   "source": [
    "class_weights = get_class_weights(y_train)\n",
    "\n",
    "class_weights"
   ]
  },
  {
   "cell_type": "markdown",
   "id": "49950e4c",
   "metadata": {},
   "source": [
    "###### Test example\n",
    "\n",
    "добавим 3 указанных в задании примера"
   ]
  },
  {
   "cell_type": "code",
   "execution_count": 95,
   "id": "3d9ffc3d",
   "metadata": {},
   "outputs": [
    {
     "data": {
      "text/html": [
       "<div>\n",
       "<style scoped>\n",
       "    .dataframe tbody tr th:only-of-type {\n",
       "        vertical-align: middle;\n",
       "    }\n",
       "\n",
       "    .dataframe tbody tr th {\n",
       "        vertical-align: top;\n",
       "    }\n",
       "\n",
       "    .dataframe thead th {\n",
       "        text-align: right;\n",
       "    }\n",
       "</style>\n",
       "<table border=\"1\" class=\"dataframe\">\n",
       "  <thead>\n",
       "    <tr style=\"text-align: right;\">\n",
       "      <th></th>\n",
       "      <th>text</th>\n",
       "      <th>mtype</th>\n",
       "    </tr>\n",
       "  </thead>\n",
       "  <tbody>\n",
       "    <tr>\n",
       "      <th>0</th>\n",
       "      <td>1. Говядина блочная 2 сорт в наличии ООО \"Агро...</td>\n",
       "      <td>Говядина</td>\n",
       "    </tr>\n",
       "    <tr>\n",
       "      <th>1</th>\n",
       "      <td>2. Куриная разделка Продам кур и куриную разде...</td>\n",
       "      <td>Кура</td>\n",
       "    </tr>\n",
       "    <tr>\n",
       "      <th>2</th>\n",
       "      <td>3. Говяжью мукозу Продам говяжью мукозу в охл ...</td>\n",
       "      <td>Говядина</td>\n",
       "    </tr>\n",
       "  </tbody>\n",
       "</table>\n",
       "</div>"
      ],
      "text/plain": [
       "                                                text         mtype\n",
       "0  1. Говядина блочная 2 сорт в наличии ООО \"Агро...  Говядина    \n",
       "1  2. Куриная разделка Продам кур и куриную разде...          Кура\n",
       "2  3. Говяжью мукозу Продам говяжью мукозу в охл ...      Говядина"
      ]
     },
     "execution_count": 95,
     "metadata": {},
     "output_type": "execute_result"
    }
   ],
   "source": [
    "test_example_path = \"./DATA/test_example.csv\"\n",
    "test_df = pd.read_csv(test_example_path, sep=\";\")\n",
    "test_df"
   ]
  },
  {
   "cell_type": "code",
   "execution_count": 96,
   "id": "1d4715ef",
   "metadata": {},
   "outputs": [
    {
     "name": "stderr",
     "output_type": "stream",
     "text": [
      "100%|██████████████████████████████████████████████████████████████████████████████████████████████████████████████████| 3/3 [00:00<00:00, 214.88it/s]\n"
     ]
    },
    {
     "data": {
      "text/html": [
       "<div>\n",
       "<style scoped>\n",
       "    .dataframe tbody tr th:only-of-type {\n",
       "        vertical-align: middle;\n",
       "    }\n",
       "\n",
       "    .dataframe tbody tr th {\n",
       "        vertical-align: top;\n",
       "    }\n",
       "\n",
       "    .dataframe thead th {\n",
       "        text-align: right;\n",
       "    }\n",
       "</style>\n",
       "<table border=\"1\" class=\"dataframe\">\n",
       "  <thead>\n",
       "    <tr style=\"text-align: right;\">\n",
       "      <th></th>\n",
       "      <th>text</th>\n",
       "      <th>mtype</th>\n",
       "      <th>clean_text</th>\n",
       "      <th>text_lemm</th>\n",
       "    </tr>\n",
       "  </thead>\n",
       "  <tbody>\n",
       "    <tr>\n",
       "      <th>0</th>\n",
       "      <td>1. Говядина блочная 2 сорт в наличии ООО \"Агро...</td>\n",
       "      <td>Говядина</td>\n",
       "      <td>1 говядина блочная 2 сорт в наличии ооо агросо...</td>\n",
       "      <td>1 говядина блочный 2 сорт в наличие ооо агросо...</td>\n",
       "    </tr>\n",
       "    <tr>\n",
       "      <th>1</th>\n",
       "      <td>2. Куриная разделка Продам кур и куриную разде...</td>\n",
       "      <td>Кура</td>\n",
       "      <td>2 куриная разделка продам кур и куриную раздел...</td>\n",
       "      <td>2 куриный разделка продать кура и куриный разд...</td>\n",
       "    </tr>\n",
       "    <tr>\n",
       "      <th>2</th>\n",
       "      <td>3. Говяжью мукозу Продам говяжью мукозу в охл ...</td>\n",
       "      <td>Говядина</td>\n",
       "      <td>3 говяжью мукозу продам говяжью мукозу в охл и...</td>\n",
       "      <td>3 говяжий мукоза продать говяжий мукоза в охл ...</td>\n",
       "    </tr>\n",
       "  </tbody>\n",
       "</table>\n",
       "</div>"
      ],
      "text/plain": [
       "                                                text         mtype  \\\n",
       "0  1. Говядина блочная 2 сорт в наличии ООО \"Агро...  Говядина       \n",
       "1  2. Куриная разделка Продам кур и куриную разде...          Кура   \n",
       "2  3. Говяжью мукозу Продам говяжью мукозу в охл ...      Говядина   \n",
       "\n",
       "                                          clean_text  \\\n",
       "0  1 говядина блочная 2 сорт в наличии ооо агросо...   \n",
       "1  2 куриная разделка продам кур и куриную раздел...   \n",
       "2  3 говяжью мукозу продам говяжью мукозу в охл и...   \n",
       "\n",
       "                                           text_lemm  \n",
       "0  1 говядина блочный 2 сорт в наличие ооо агросо...  \n",
       "1  2 куриный разделка продать кура и куриный разд...  \n",
       "2  3 говяжий мукоза продать говяжий мукоза в охл ...  "
      ]
     },
     "execution_count": 96,
     "metadata": {},
     "output_type": "execute_result"
    }
   ],
   "source": [
    "processed_test_df = process_text(test_df)\n",
    "\n",
    "processed_test_df"
   ]
  },
  {
   "cell_type": "code",
   "execution_count": 97,
   "id": "60cfbb88",
   "metadata": {},
   "outputs": [],
   "source": [
    "X_test_example = processed_test_df[[\"text_lemm\"]]\n",
    "y_test_example = processed_test_df[[\"mtype\"]]"
   ]
  },
  {
   "cell_type": "markdown",
   "id": "3aaa9b58",
   "metadata": {},
   "source": [
    "###### Metrics\n",
    "\n",
    "Подготовим функции для вывода расширенных метрик классификации и матрицы ошибок."
   ]
  },
  {
   "cell_type": "code",
   "execution_count": 143,
   "id": "05f930e4",
   "metadata": {},
   "outputs": [],
   "source": [
    "def get_y_pred(model, valid_pool):\n",
    "    return [item for sublist in model.predict(valid_pool) for item in sublist]\n",
    "    \n",
    "\n",
    "def plot_matrix(matrix, labels):\n",
    "    \n",
    "    sns.heatmap(matrix, \n",
    "                square=True,\n",
    "                cmap=\"YlGnBu\",\n",
    "                linewidths=4,\n",
    "                annot=True,\n",
    "                fmt=\".0f\",\n",
    "                xticklabels=labels, \n",
    "                yticklabels=labels)\n",
    "    \n",
    "    plt.title(\"confusion_matrix\")\n",
    "    plt.show()\n",
    "\n",
    "    \n",
    "def report(y_true, y_pred):\n",
    "    print(classification_report(y_true, y_pred))\n",
    "    matrix = confusion_matrix(y_true, y_pred)\n",
    "    true_labels = np.unique(y_true)\n",
    "    pred_labels = np.unique(y_pred)\n",
    "    setdiff = np.setdiff1d(pred_labels, true_labels)\n",
    "    if len(setdiff) > 0:\n",
    "        true_labels = np.concatenate((setdiff, true_labels))\n",
    "    \n",
    "    plot_matrix(matrix, true_labels)\n",
    "    "
   ]
  },
  {
   "cell_type": "markdown",
   "id": "305cfbd4",
   "metadata": {},
   "source": [
    "##### Y_true\n",
    "\n",
    "Подготовим true метки для дальнейшего подсчета метрик"
   ]
  },
  {
   "cell_type": "code",
   "execution_count": 144,
   "id": "1aa5b98e",
   "metadata": {},
   "outputs": [],
   "source": [
    "y_true = y_test.mtype.tolist()"
   ]
  },
  {
   "cell_type": "markdown",
   "id": "a4db100d",
   "metadata": {},
   "source": [
    "###### 1. Baseline: Manual decision\n",
    "\n",
    "Попробуем решить задачу в лоб, без применения машинного обучения. Будем классифицировать предложения по вхождению соответствующих слов."
   ]
  },
  {
   "cell_type": "code",
   "execution_count": 89,
   "id": "aca46b7a",
   "metadata": {},
   "outputs": [],
   "source": [
    "def find_word(df):\n",
    "    \n",
    "    labels = [\"Говядина\", \"Свинина\", \"Цыпленок\", \"Кура\", \"Баранина\", \"Индейка\"]\n",
    "    \n",
    "    y_pred = []\n",
    "    for _, row in tqdm(df.iterrows()):\n",
    "        for label in labels:\n",
    "            if label.lower() in row.text_lemm:\n",
    "                y_pred.append(label)\n",
    "                break\n",
    "        else:\n",
    "            y_pred.append(\"unknown\")\n",
    "    \n",
    "    return y_pred"
   ]
  },
  {
   "cell_type": "code",
   "execution_count": 90,
   "id": "a44024e4",
   "metadata": {},
   "outputs": [
    {
     "name": "stderr",
     "output_type": "stream",
     "text": [
      "3288it [00:00, 11467.58it/s]\n"
     ]
    }
   ],
   "source": [
    "y_pred_manual = find_word(X_test)"
   ]
  },
  {
   "cell_type": "code",
   "execution_count": 91,
   "id": "aabf1882",
   "metadata": {},
   "outputs": [
    {
     "name": "stdout",
     "output_type": "stream",
     "text": [
      "              precision    recall  f1-score   support\n",
      "\n",
      "     unknown       0.00      0.00      0.00         0\n",
      "    Баранина       0.99      0.85      0.92       219\n",
      "    Говядина       0.98      0.76      0.86      1698\n",
      "     Индейка       0.99      0.98      0.98       264\n",
      "        Кура       0.66      0.32      0.43       303\n",
      "     Свинина       0.98      0.19      0.32       608\n",
      "    Цыпленок       1.00      0.01      0.01       196\n",
      "\n",
      "    accuracy                           0.59      3288\n",
      "   macro avg       0.80      0.44      0.50      3288\n",
      "weighted avg       0.96      0.59      0.68      3288\n",
      "\n"
     ]
    },
    {
     "data": {
      "image/png": "[encoded data removed]",
      "text/plain": [
       "<Figure size 432x288 with 2 Axes>"
      ]
     },
     "metadata": {
      "needs_background": "light"
     },
     "output_type": "display_data"
    }
   ],
   "source": [
    "report(y_true, y_pred_manual)"
   ]
  },
  {
   "cell_type": "code",
   "execution_count": null,
   "id": "f17f3ca0",
   "metadata": {},
   "outputs": [],
   "source": [
    "### Написать вывод"
   ]
  },
  {
   "cell_type": "markdown",
   "id": "f7a5cd58",
   "metadata": {},
   "source": [
    "###### 2. Baseline: CATBOOST\n",
    "\n",
    "В качестве baseline-модели используем catboost. Натренируем 2 модели: с учетом весов класса и без них. Сравним результаты. "
   ]
  },
  {
   "cell_type": "code",
   "execution_count": 15,
   "id": "d26c1d29",
   "metadata": {},
   "outputs": [],
   "source": [
    "def get_pools(X_train, y_train, X_test, y_test):\n",
    "    \n",
    "    train_pool = Pool(data=X_train, \n",
    "                      label=y_train, \n",
    "                      text_features=['text_lemm'])\n",
    "\n",
    "    valid_pool = Pool(data=X_test, \n",
    "                      label=y_test, \n",
    "                      text_features=['text_lemm'])\n",
    "\n",
    "    return train_pool, valid_pool\n",
    "\n",
    "\n",
    "def fit_model(train_pool, test_pool, **kwargs):\n",
    "    \n",
    "    model = CatBoostClassifier(task_type='CPU',\n",
    "                               eval_metric='TotalF1', \n",
    "                               od_type='Iter', \n",
    "                               od_wait=500, \n",
    "                               **kwargs)\n",
    "    \n",
    "    return model.fit(train_pool, \n",
    "                     eval_set=test_pool, \n",
    "                     verbose=100, \n",
    "                     plot=True, \n",
    "                     use_best_model=True)"
   ]
  },
  {
   "cell_type": "code",
   "execution_count": 16,
   "id": "95f63110",
   "metadata": {},
   "outputs": [],
   "source": [
    "train_pool, valid_pool = get_pools(X_train, y_train, X_test, y_test)"
   ]
  },
  {
   "cell_type": "code",
   "execution_count": 18,
   "id": "75b3381e",
   "metadata": {},
   "outputs": [
    {
     "data": {
      "application/vnd.jupyter.widget-view+json": {
       "model_id": "7e5ffbbb3c384c3a98346cde8851d958",
       "version_major": 2,
       "version_minor": 0
      },
      "text/plain": [
       "MetricVisualizer(layout=Layout(align_self='stretch', height='500px'))"
      ]
     },
     "metadata": {},
     "output_type": "display_data"
    },
    {
     "name": "stdout",
     "output_type": "stream",
     "text": [
      "0:\tlearn: 0.8345602\ttest: 0.8410984\tbest: 0.8410984 (0)\ttotal: 771ms\tremaining: 12m 50s\n",
      "100:\tlearn: 0.9632333\ttest: 0.9511505\tbest: 0.9523500 (96)\ttotal: 1m 22s\tremaining: 12m 16s\n",
      "200:\tlearn: 0.9682729\ttest: 0.9550211\tbest: 0.9559538 (152)\ttotal: 2m 44s\tremaining: 10m 53s\n",
      "300:\tlearn: 0.9737120\ttest: 0.9563432\tbest: 0.9563432 (297)\ttotal: 4m 5s\tremaining: 9m 30s\n",
      "400:\tlearn: 0.9784987\ttest: 0.9576358\tbest: 0.9583286 (391)\ttotal: 5m 49s\tremaining: 8m 41s\n",
      "500:\tlearn: 0.9833555\ttest: 0.9583147\tbest: 0.9583286 (391)\ttotal: 7m 46s\tremaining: 7m 45s\n",
      "600:\tlearn: 0.9864459\ttest: 0.9582449\tbest: 0.9586454 (504)\ttotal: 9m 8s\tremaining: 6m 4s\n",
      "700:\tlearn: 0.9883761\ttest: 0.9575959\tbest: 0.9586454 (504)\ttotal: 10m 30s\tremaining: 4m 28s\n",
      "800:\tlearn: 0.9909028\ttest: 0.9574982\tbest: 0.9586454 (504)\ttotal: 11m 52s\tremaining: 2m 57s\n",
      "900:\tlearn: 0.9927539\ttest: 0.9586815\tbest: 0.9590191 (895)\ttotal: 13m 16s\tremaining: 1m 27s\n",
      "999:\tlearn: 0.9941271\ttest: 0.9572291\tbest: 0.9593557 (908)\ttotal: 14m 37s\tremaining: 0us\n",
      "\n",
      "bestTest = 0.9593557485\n",
      "bestIteration = 908\n",
      "\n",
      "Shrink model to first 909 iterations.\n"
     ]
    }
   ],
   "source": [
    "model = fit_model(train_pool, \n",
    "                  valid_pool, \n",
    "                  learning_rate=0.35,\n",
    "                  iterations=1000,\n",
    "                  dictionaries = [{\n",
    "                      'dictionary_id':'Word',\n",
    "                      'max_dictionary_size': '50000'\n",
    "                  }],\n",
    "                  feature_calcers = ['BoW:top_tokens_count=10000'])"
   ]
  },
  {
   "cell_type": "code",
   "execution_count": 19,
   "id": "a6ecab6b",
   "metadata": {},
   "outputs": [
    {
     "data": {
      "application/vnd.jupyter.widget-view+json": {
       "model_id": "2d49cb792aab41f8a7b7b334e85305a0",
       "version_major": 2,
       "version_minor": 0
      },
      "text/plain": [
       "MetricVisualizer(layout=Layout(align_self='stretch', height='500px'))"
      ]
     },
     "metadata": {},
     "output_type": "display_data"
    },
    {
     "name": "stdout",
     "output_type": "stream",
     "text": [
      "0:\tlearn: 0.7063148\ttest: 0.7149136\tbest: 0.7149136 (0)\ttotal: 834ms\tremaining: 13m 52s\n",
      "100:\tlearn: 0.9379371\ttest: 0.9090851\tbest: 0.9108978 (59)\ttotal: 1m 21s\tremaining: 12m 1s\n",
      "200:\tlearn: 0.9604764\ttest: 0.9061447\tbest: 0.9108978 (59)\ttotal: 2m 42s\tremaining: 10m 47s\n",
      "300:\tlearn: 0.9735655\ttest: 0.9079547\tbest: 0.9111214 (275)\ttotal: 4m 3s\tremaining: 9m 24s\n",
      "400:\tlearn: 0.9808793\ttest: 0.9085226\tbest: 0.9123187 (379)\ttotal: 5m 24s\tremaining: 8m 4s\n",
      "500:\tlearn: 0.9854780\ttest: 0.9075174\tbest: 0.9123187 (379)\ttotal: 6m 45s\tremaining: 6m 43s\n",
      "600:\tlearn: 0.9891590\ttest: 0.9115170\tbest: 0.9125387 (584)\ttotal: 8m 6s\tremaining: 5m 22s\n",
      "700:\tlearn: 0.9905057\ttest: 0.9099572\tbest: 0.9132638 (686)\ttotal: 9m 27s\tremaining: 4m 2s\n",
      "800:\tlearn: 0.9925048\ttest: 0.9098854\tbest: 0.9132638 (686)\ttotal: 10m 48s\tremaining: 2m 41s\n",
      "900:\tlearn: 0.9930567\ttest: 0.9097964\tbest: 0.9132638 (686)\ttotal: 12m 9s\tremaining: 1m 20s\n",
      "999:\tlearn: 0.9943309\ttest: 0.9089233\tbest: 0.9132638 (686)\ttotal: 13m 30s\tremaining: 0us\n",
      "\n",
      "bestTest = 0.9132638495\n",
      "bestIteration = 686\n",
      "\n",
      "Shrink model to first 687 iterations.\n"
     ]
    }
   ],
   "source": [
    "model_weighted = fit_model(train_pool, \n",
    "                          valid_pool, \n",
    "                          learning_rate=0.35,\n",
    "                          iterations=1000,\n",
    "                          class_weights=class_weights,\n",
    "                          dictionaries = [{\n",
    "                              'dictionary_id':'Word',\n",
    "                              'max_dictionary_size': '50000'\n",
    "                          }],\n",
    "                          feature_calcers = ['BoW:top_tokens_count=10000'])"
   ]
  },
  {
   "cell_type": "code",
   "execution_count": 92,
   "id": "6bde08b8",
   "metadata": {},
   "outputs": [],
   "source": [
    "y_pred = get_y_pred(model, valid_pool)\n",
    "y_pred_weighted = get_y_pred(model_weighted, valid_pool)"
   ]
  },
  {
   "cell_type": "code",
   "execution_count": 93,
   "id": "e07578df",
   "metadata": {},
   "outputs": [
    {
     "name": "stdout",
     "output_type": "stream",
     "text": [
      "              precision    recall  f1-score   support\n",
      "\n",
      "    Баранина       1.00      0.96      0.98       219\n",
      "    Говядина       0.99      1.00      0.99      1698\n",
      "     Индейка       1.00      0.99      1.00       264\n",
      "        Кура       0.79      0.87      0.83       303\n",
      "     Свинина       0.99      0.99      0.99       608\n",
      "    Цыпленок       0.79      0.64      0.71       196\n",
      "\n",
      "    accuracy                           0.96      3288\n",
      "   macro avg       0.93      0.91      0.92      3288\n",
      "weighted avg       0.96      0.96      0.96      3288\n",
      "\n"
     ]
    },
    {
     "data": {
      "image/png": "[encoded data removed]",
      "text/plain": [
       "<Figure size 432x288 with 2 Axes>"
      ]
     },
     "metadata": {
      "needs_background": "light"
     },
     "output_type": "display_data"
    }
   ],
   "source": [
    "report(y_true, y_pred)"
   ]
  },
  {
   "cell_type": "code",
   "execution_count": 94,
   "id": "b1f91334",
   "metadata": {},
   "outputs": [
    {
     "name": "stdout",
     "output_type": "stream",
     "text": [
      "              precision    recall  f1-score   support\n",
      "\n",
      "    Баранина       0.97      0.97      0.97       219\n",
      "    Говядина       1.00      0.98      0.99      1698\n",
      "     Индейка       1.00      0.99      1.00       264\n",
      "        Кура       0.82      0.84      0.83       303\n",
      "     Свинина       0.94      1.00      0.97       608\n",
      "    Цыпленок       0.76      0.71      0.73       196\n",
      "\n",
      "    accuracy                           0.96      3288\n",
      "   macro avg       0.91      0.92      0.91      3288\n",
      "weighted avg       0.96      0.96      0.96      3288\n",
      "\n"
     ]
    },
    {
     "data": {
      "image/png": "[encoded data removed]",
      "text/plain": [
       "<Figure size 432x288 with 2 Axes>"
      ]
     },
     "metadata": {
      "needs_background": "light"
     },
     "output_type": "display_data"
    }
   ],
   "source": [
    "report(y_true, y_pred_weighted)"
   ]
  },
  {
   "cell_type": "markdown",
   "id": "aea696b3",
   "metadata": {},
   "source": [
    "##### Test examples"
   ]
  },
  {
   "cell_type": "code",
   "execution_count": 98,
   "id": "83e94505",
   "metadata": {},
   "outputs": [],
   "source": [
    "test_pool = Pool(data=X_test_example, \n",
    "                 label=y_test_example, \n",
    "                 text_features=['text_lemm'])"
   ]
  },
  {
   "cell_type": "code",
   "execution_count": 99,
   "id": "5c9ba225",
   "metadata": {},
   "outputs": [
    {
     "data": {
      "text/plain": [
       "array([['Говядина'],\n",
       "       ['Кура'],\n",
       "       ['Говядина']], dtype=object)"
      ]
     },
     "execution_count": 99,
     "metadata": {},
     "output_type": "execute_result"
    }
   ],
   "source": [
    "model.predict(test_pool)"
   ]
  },
  {
   "cell_type": "code",
   "execution_count": 100,
   "id": "b899e973",
   "metadata": {},
   "outputs": [
    {
     "data": {
      "text/plain": [
       "array([['Говядина'],\n",
       "       ['Кура'],\n",
       "       ['Говядина']], dtype=object)"
      ]
     },
     "execution_count": 100,
     "metadata": {},
     "output_type": "execute_result"
    }
   ],
   "source": [
    "model_weighted.predict(test_pool)"
   ]
  },
  {
   "cell_type": "markdown",
   "id": "a5052bdc",
   "metadata": {},
   "source": [
    "###### Вывод\n",
    "\n",
    "Catboost отлично справляется с задачей..."
   ]
  },
  {
   "cell_type": "markdown",
   "id": "3eabd16d",
   "metadata": {},
   "source": [
    "#### torchtext"
   ]
  },
  {
   "cell_type": "code",
   "execution_count": 115,
   "id": "925a8401",
   "metadata": {},
   "outputs": [],
   "source": [
    "device = \"cpu\"\n",
    "# device = torch.device(\"cuda\" if torch.cuda.is_available() else \"cpu\")\n",
    "\n",
    "import time\n",
    "\n",
    "import torch\n",
    "from torch import nn\n",
    "\n",
    "from torch.utils.data import DataLoader\n",
    "from torch.utils.data.dataset import random_split\n",
    "\n",
    "from torchtext.vocab import build_vocab_from_iterator\n",
    "from torchtext.data.functional import to_map_style_dataset"
   ]
  },
  {
   "cell_type": "code",
   "execution_count": 116,
   "id": "46f1e4af",
   "metadata": {},
   "outputs": [],
   "source": [
    "def yield_tokens(X_train):\n",
    "    for _, row in tqdm(X_train.iterrows()):\n",
    "        yield row.text_lemm.split()"
   ]
  },
  {
   "cell_type": "code",
   "execution_count": 117,
   "id": "9b48e17b",
   "metadata": {},
   "outputs": [
    {
     "name": "stderr",
     "output_type": "stream",
     "text": [
      "13150it [00:00, 16882.67it/s]\n"
     ]
    }
   ],
   "source": [
    "vocab = build_vocab_from_iterator(yield_tokens(X_train), specials=[\"<unk>\"])\n",
    "vocab.set_default_index(vocab[\"<unk>\"])"
   ]
  },
  {
   "cell_type": "code",
   "execution_count": 146,
   "id": "f3661127",
   "metadata": {},
   "outputs": [],
   "source": [
    "label2num = {'Говядина': 0,\n",
    "             'Свинина': 1, \n",
    "             'Цыпленок': 2, \n",
    "             'Кура': 3, \n",
    "             'Баранина': 4, \n",
    "             'Индейка': 5}\n",
    "\n",
    "\n",
    "num2label = {0: 'Говядина',\n",
    "             1: 'Свинина', \n",
    "             2: 'Цыпленок', \n",
    "             3: 'Кура', \n",
    "             4: 'Баранина', \n",
    "             5: 'Индейка'}\n",
    "\n",
    "\n",
    "text_pipeline = lambda x: vocab(x.split())\n",
    "label_pipeline = lambda x: label2num[x]"
   ]
  },
  {
   "cell_type": "code",
   "execution_count": 151,
   "id": "cfc57e09",
   "metadata": {},
   "outputs": [],
   "source": [
    "def prepare_iter(X_train, y_train, X_test, y_test):\n",
    "    train_iter = [(label, text) for (label, text) in zip(y_train.mtype.tolist(), X_train.text_lemm.tolist())]\n",
    "    test_iter = [(label, text) for (label, text) in zip(y_test.mtype.tolist(), X_test.text_lemm.tolist())]\n",
    "    return train_iter, test_iter\n",
    "\n",
    "\n",
    "def collate_batch(batch):\n",
    "    label_list, text_list, offsets = [], [], [0]\n",
    "    for (_label, _text) in batch:\n",
    "        label_list.append(label_pipeline(_label))\n",
    "        processed_text = torch.tensor(text_pipeline(_text), dtype=torch.int64)\n",
    "        text_list.append(processed_text)\n",
    "        offsets.append(processed_text.size(0))\n",
    "    label_list = torch.tensor(label_list, dtype=torch.int64)\n",
    "    offsets = torch.tensor(offsets[:-1]).cumsum(dim=0)\n",
    "    text_list = torch.cat(text_list)\n",
    "    return label_list.to(device), text_list.to(device), offsets.to(device)\n",
    "\n",
    "\n",
    "def prepare_loaders(train_iter, test_iter, batch_size=16):\n",
    "        \n",
    "    train_dataset = to_map_style_dataset(train_iter)\n",
    "    test_dataset = to_map_style_dataset(test_iter)\n",
    "\n",
    "    num_train = int(len(train_dataset) * 0.95)\n",
    "    split_train_, split_valid_ = random_split(train_dataset, [num_train, len(train_dataset) - num_train])\n",
    "\n",
    "    train_loader = DataLoader(split_train_, \n",
    "                              batch_size=batch_size,\n",
    "                              shuffle=True, \n",
    "                              collate_fn=collate_batch)\n",
    "\n",
    "    valid_loader = DataLoader(split_valid_, \n",
    "                              batch_size=batch_size,\n",
    "                              shuffle=True, \n",
    "                              collate_fn=collate_batch)\n",
    "\n",
    "    test_loader = DataLoader(test_dataset, \n",
    "                             batch_size=batch_size,\n",
    "                             shuffle=True, \n",
    "                             collate_fn=collate_batch)\n",
    "\n",
    "    return train_loader, valid_loader, test_loader\n",
    "                                      \n",
    "\n",
    "def df2loaders(X_train, y_train, X_test, y_test, batch_size=16):\n",
    "    train_iter, test_iter = prepare_iter(X_train, y_train, X_test, y_test)\n",
    "    train_loader, valid_loader, test_loader = prepare_loaders(train_iter, test_iter, batch_size=batch_size)\n",
    "    return train_loader, valid_loader, test_loader\n",
    "    \n",
    "    \n",
    "    \n",
    "class TextClassificationModel(nn.Module):\n",
    "\n",
    "    def __init__(self, vocab_size, embed_dim, num_class):\n",
    "        super(TextClassificationModel, self).__init__()\n",
    "        self.embedding = nn.EmbeddingBag(vocab_size, embed_dim, sparse=True)\n",
    "        self.fc = nn.Linear(embed_dim, num_class)\n",
    "        self.init_weights()\n",
    "\n",
    "    def init_weights(self):\n",
    "        initrange = 0.5\n",
    "        self.embedding.weight.data.uniform_(-initrange, initrange)\n",
    "        self.fc.weight.data.uniform_(-initrange, initrange)\n",
    "        self.fc.bias.data.zero_()\n",
    "\n",
    "    def forward(self, text, offsets):\n",
    "        embedded = self.embedding(text, offsets)\n",
    "        return self.fc(embedded)\n",
    "\n",
    "    \n",
    "    \n",
    "class Classifier:\n",
    "    \n",
    "    def __init__(self, \n",
    "                 num_class=6,\n",
    "                 emsize=64,                 \n",
    "                 vocab_size=len(vocab)):\n",
    "        \n",
    "        self.model = TextClassificationModel(vocab_size, emsize, num_class).to(device)\n",
    "        \n",
    "    \n",
    "    def train(self, dataloader):\n",
    "        \n",
    "        self.model.train()\n",
    "        total_acc, total_count = 0, 0\n",
    "        log_interval = 500\n",
    "        start_time = time.time()\n",
    "\n",
    "        for idx, (label, text, offsets) in enumerate(dataloader):\n",
    "            self.optimizer.zero_grad()\n",
    "            predicted_label = self.model(text, offsets)\n",
    "            loss = self.criterion(predicted_label, label)\n",
    "            loss.backward()\n",
    "            torch.nn.utils.clip_grad_norm_(self.model.parameters(), 0.1)\n",
    "            self.optimizer.step()\n",
    "                                  \n",
    "            total_acc += (predicted_label.argmax(1) == label).sum().item()\n",
    "            total_count += label.size(0)\n",
    "            if idx % log_interval == 0 and idx > 0:\n",
    "                elapsed = time.time() - start_time\n",
    "                print('| epoch {:3d} | {:5d}/{:5d} batches '\n",
    "                      '| accuracy {:8.3f}'.format(epoch, \n",
    "                                                  idx, \n",
    "                                                  len(dataloader),\n",
    "                                                  total_acc/total_count))\n",
    "                total_acc, total_count = 0, 0\n",
    "                start_time = time.time()\n",
    "\n",
    "        \n",
    "    def evaluate(self, dataloader):\n",
    "        \n",
    "        self.model.eval()\n",
    "        total_acc, total_count = 0, 0\n",
    "\n",
    "        with torch.no_grad():\n",
    "            for idx, (label, text, offsets) in enumerate(dataloader):\n",
    "                predicted_label = self.model(text, offsets)\n",
    "                loss = self.criterion(predicted_label, label)\n",
    "                total_acc += (predicted_label.argmax(1) == label).sum().item()\n",
    "                total_count += label.size(0)\n",
    "        return total_acc/total_count\n",
    "\n",
    "    \n",
    "    def test(self, dataloader):\n",
    "        y_true = []\n",
    "        y_pred = []\n",
    "        with torch.no_grad():\n",
    "            for idx, (label, text, offsets) in enumerate(dataloader):\n",
    "                y_true.extend(label.cpu().tolist())\n",
    "                predicted_proba = self.model(text, offsets)\n",
    "                predicted_label = predicted_proba.argmax(1).cpu().tolist()\n",
    "                y_pred.extend(predicted_label)\n",
    "                \n",
    "        y_true = [num2label[i] for i in y_true]\n",
    "        y_pred = [num2label[i] for i in y_pred]\n",
    "        report(y_true, y_pred)\n",
    "\n",
    "    \n",
    "    def fit(self,\n",
    "            X_train, \n",
    "            y_train, \n",
    "            X_test, \n",
    "            y_test,\n",
    "            batch_size=16, \n",
    "            epochs=10,\n",
    "            lr=5):\n",
    "                                      \n",
    "        self.criterion = torch.nn.CrossEntropyLoss()\n",
    "        self.optimizer = torch.optim.SGD(self.model.parameters(), lr=lr)\n",
    "        self.scheduler = torch.optim.lr_scheduler.StepLR(self.optimizer, 1.0, gamma=0.1)\n",
    "        \n",
    "        train_loader, valid_loader, test_loader = \\\n",
    "        df2loaders(X_train, y_train, X_test, y_test, batch_size=batch_size)\n",
    "        \n",
    "        total_accu = None\n",
    "        for epoch in range(1, epochs + 1):\n",
    "            epoch_start_time = time.time()\n",
    "            self.train(train_loader)\n",
    "            accu_val = self.evaluate(valid_loader)\n",
    "            if total_accu is not None and total_accu > accu_val:\n",
    "                scheduler.step()\n",
    "            else:\n",
    "                total_accu = accu_val\n",
    "                \n",
    "            print('-' * 59)\n",
    "            print('| end of epoch {:3d} | time: {:5.2f}s | '\n",
    "                  'valid accuracy {:8.3f} '.format(epoch,\n",
    "                                                   time.time() - epoch_start_time,\n",
    "                                                   accu_val))\n",
    "            print('-' * 59)\n",
    "            \n",
    "        \n",
    "        accu_test = self.evaluate(test_loader)\n",
    "        print()\n",
    "        print(f\"TEST ACCURACY: {accu_test}\")\n",
    "        self.test(test_loader)"
   ]
  },
  {
   "cell_type": "code",
   "execution_count": 152,
   "id": "1a2c17f5",
   "metadata": {},
   "outputs": [
    {
     "name": "stdout",
     "output_type": "stream",
     "text": [
      "| epoch  10 |   500/  781 batches | accuracy    0.896\n",
      "-----------------------------------------------------------\n",
      "| end of epoch   1 | time:  1.36s | valid accuracy    0.942 \n",
      "-----------------------------------------------------------\n",
      "| epoch  10 |   500/  781 batches | accuracy    0.954\n",
      "-----------------------------------------------------------\n",
      "| end of epoch   2 | time:  1.21s | valid accuracy    0.956 \n",
      "-----------------------------------------------------------\n",
      "| epoch  10 |   500/  781 batches | accuracy    0.961\n",
      "-----------------------------------------------------------\n",
      "| end of epoch   3 | time:  1.25s | valid accuracy    0.951 \n",
      "-----------------------------------------------------------\n",
      "| epoch  10 |   500/  781 batches | accuracy    0.964\n",
      "-----------------------------------------------------------\n",
      "| end of epoch   4 | time:  1.39s | valid accuracy    0.948 \n",
      "-----------------------------------------------------------\n",
      "| epoch  10 |   500/  781 batches | accuracy    0.970\n",
      "-----------------------------------------------------------\n",
      "| end of epoch   5 | time:  1.19s | valid accuracy    0.953 \n",
      "-----------------------------------------------------------\n",
      "| epoch  10 |   500/  781 batches | accuracy    0.972\n",
      "-----------------------------------------------------------\n",
      "| end of epoch   6 | time:  1.29s | valid accuracy    0.951 \n",
      "-----------------------------------------------------------\n",
      "| epoch  10 |   500/  781 batches | accuracy    0.972\n",
      "-----------------------------------------------------------\n",
      "| end of epoch   7 | time:  1.55s | valid accuracy    0.954 \n",
      "-----------------------------------------------------------\n",
      "| epoch  10 |   500/  781 batches | accuracy    0.974\n",
      "-----------------------------------------------------------\n",
      "| end of epoch   8 | time:  1.32s | valid accuracy    0.950 \n",
      "-----------------------------------------------------------\n",
      "| epoch  10 |   500/  781 batches | accuracy    0.978\n",
      "-----------------------------------------------------------\n",
      "| end of epoch   9 | time:  1.32s | valid accuracy    0.953 \n",
      "-----------------------------------------------------------\n",
      "| epoch  10 |   500/  781 batches | accuracy    0.980\n",
      "-----------------------------------------------------------\n",
      "| end of epoch  10 | time:  1.21s | valid accuracy    0.950 \n",
      "-----------------------------------------------------------\n",
      "\n",
      "TEST ACCURACY: 0.9504257907542579\n",
      "              precision    recall  f1-score   support\n",
      "\n",
      "    Баранина       0.99      0.96      0.97       219\n",
      "    Говядина       0.99      0.99      0.99      1698\n",
      "     Индейка       0.99      1.00      1.00       264\n",
      "        Кура       0.74      0.88      0.80       303\n",
      "     Свинина       0.97      0.99      0.98       608\n",
      "    Цыпленок       0.76      0.51      0.61       196\n",
      "\n",
      "    accuracy                           0.95      3288\n",
      "   macro avg       0.91      0.89      0.89      3288\n",
      "weighted avg       0.95      0.95      0.95      3288\n",
      "\n"
     ]
    },
    {
     "data": {
      "image/png": "[encoded data removed]",
      "text/plain": [
       "<Figure size 432x288 with 2 Axes>"
      ]
     },
     "metadata": {
      "needs_background": "light"
     },
     "output_type": "display_data"
    }
   ],
   "source": [
    "clf = Classifier()\n",
    "\n",
    "clf.fit(X_train, \n",
    "        y_train, \n",
    "        X_test, \n",
    "        y_test,\n",
    "        batch_size=16, \n",
    "        epochs=10,\n",
    "        lr=5)"
   ]
  },
  {
   "cell_type": "code",
   "execution_count": null,
   "id": "751b5e55",
   "metadata": {},
   "outputs": [],
   "source": []
  }
 ],
 "metadata": {
  "kernelspec": {
   "display_name": "Python 3 (ipykernel)",
   "language": "python",
   "name": "python3"
  },
  "language_info": {
   "codemirror_mode": {
    "name": "ipython",
    "version": 3
   },
   "file_extension": ".py",
   "mimetype": "text/x-python",
   "name": "python",
   "nbconvert_exporter": "python",
   "pygments_lexer": "ipython3",
   "version": "3.9.13"
  }
 },
 "nbformat": 4,
 "nbformat_minor": 5
}
